{
 "cells": [
  {
   "cell_type": "markdown",
   "metadata": {},
   "source": [
    "# 4.a."
   ]
  },
  {
   "cell_type": "code",
   "execution_count": 23,
   "metadata": {},
   "outputs": [],
   "source": [
    "import numpy as np\n",
    "from sklearn import linear_model"
   ]
  },
  {
   "cell_type": "code",
   "execution_count": 24,
   "metadata": {},
   "outputs": [],
   "source": [
    "from error_func import rmse_calc, mae_calc"
   ]
  },
  {
   "cell_type": "code",
   "execution_count": 40,
   "metadata": {},
   "outputs": [
    {
     "name": "stdout",
     "output_type": "stream",
     "text": [
      "X:\n",
      " [[ 1.  2.]\n",
      " [ 2.  4.]\n",
      " [ 3.  6.]\n",
      " [ 4.  6.]] \n",
      "\n",
      "y:\n",
      " [[2]\n",
      " [3]\n",
      " [4]\n",
      " [5]] \n",
      "\n"
     ]
    }
   ],
   "source": [
    "X = [[1.0, 2], [2, 4], [3, 6], [4, 6]]\n",
    "X = np.array([np.array(i) for i in X])\n",
    "y = np.array([2, 3, 4, 5])\n",
    "y = y.reshape((4,1))\n",
    "print('X:\\n',X,'\\n')\n",
    "print('y:\\n',y,'\\n')"
   ]
  },
  {
   "cell_type": "code",
   "execution_count": 46,
   "metadata": {},
   "outputs": [
    {
     "name": "stdout",
     "output_type": "stream",
     "text": [
      "Ridge Regression coefficients: [[ 1.  0.]]\n",
      "Ridge Regression intercept: [ 1.]\n",
      "Predictions:\n",
      " [[ 2.]\n",
      " [ 3.]\n",
      " [ 4.]\n",
      " [ 5.]] \n",
      "\n",
      "RMSE =  [ 0.]\n"
     ]
    }
   ],
   "source": [
    "ridge1 = linear_model.Ridge(alpha=0)\n",
    "ridge1.fit(X,y)\n",
    "pred1 = ridge1.predict(X)\n",
    "print('Ridge Regression coefficients:', ridge1.coef_)\n",
    "print('Ridge Regression intercept:', ridge1.intercept_)\n",
    "print('Predictions:\\n',pred1,'\\n')\n",
    "print('RMSE = ', rmse_calc(y,pred1))"
   ]
  },
  {
   "cell_type": "code",
   "execution_count": 48,
   "metadata": {},
   "outputs": [
    {
     "name": "stdout",
     "output_type": "stream",
     "text": [
      "Ridge Regression coefficients: [[ 0.59649123  0.24561404]]\n",
      "Ridge Regression intercept: [ 0.90350877]\n",
      "Predictions:\n",
      " [[ 1.99122807]\n",
      " [ 3.07894737]\n",
      " [ 4.16666667]\n",
      " [ 4.76315789]] \n",
      "\n",
      "RMSE =  [ 0.15015125]\n"
     ]
    }
   ],
   "source": [
    "ridge2 = linear_model.Ridge(alpha=0.5)\n",
    "ridge2.fit(X,y)\n",
    "pred2 = ridge2.predict(X)\n",
    "print('Ridge Regression coefficients:', ridge2.coef_)\n",
    "print('Ridge Regression intercept:', ridge1.intercept_)\n",
    "print('Predictions:\\n',pred2,'\\n')\n",
    "print('RMSE = ', rmse_calc(y,pred2))"
   ]
  },
  {
   "cell_type": "code",
   "execution_count": 50,
   "metadata": {},
   "outputs": [
    {
     "name": "stdout",
     "output_type": "stream",
     "text": [
      "Ridge Regression coefficients: [[ 0.33333333  0.33333333]]\n",
      "Ridge Regression intercept: [ 1.16666667]\n",
      "Predictions:\n",
      " [[ 2.16666667]\n",
      " [ 3.16666667]\n",
      " [ 4.16666667]\n",
      " [ 4.5       ]] \n",
      "\n",
      "RMSE =  [ 0.28867513]\n"
     ]
    }
   ],
   "source": [
    "ridge3 = linear_model.Ridge(alpha=3)\n",
    "ridge3.fit(X,y)\n",
    "pred3 = ridge3.predict(X)\n",
    "print('Ridge Regression coefficients:', ridge3.coef_)\n",
    "print('Ridge Regression intercept:', ridge3.intercept_)\n",
    "print('Predictions:\\n',pred3,'\\n')\n",
    "print('RMSE = ', rmse_calc(y,pred3))"
   ]
  },
  {
   "cell_type": "markdown",
   "metadata": {},
   "source": [
    "# 4.b."
   ]
  },
  {
   "cell_type": "code",
   "execution_count": null,
   "metadata": {},
   "outputs": [],
   "source": []
  },
  {
   "cell_type": "code",
   "execution_count": 51,
   "metadata": {},
   "outputs": [
    {
     "name": "stdout",
     "output_type": "stream",
     "text": [
      "Ridge Regression coefficients: [[ 0.47826087  0.30434783]]\n",
      "Ridge Regression intercept: [ 0.93478261]\n",
      "Predictions:\n",
      " [[ 2.02173913]\n",
      " [ 3.10869565]\n",
      " [ 4.19565217]\n",
      " [ 4.67391304]] \n",
      "\n",
      "RMSE =  [ 0.1980529]\n"
     ]
    }
   ],
   "source": [
    "ridge4 = linear_model.Ridge(alpha=1)\n",
    "ridge4.fit(X,y)\n",
    "pred4 = ridge4.predict(X)\n",
    "print('Ridge Regression coefficients:', ridge4.coef_)\n",
    "print('Ridge Regression intercept:', ridge4.intercept_)\n",
    "print('Predictions:\\n',pred4,'\\n')\n",
    "print('RMSE = ', rmse_calc(y,pred4))"
   ]
  },
  {
   "cell_type": "code",
   "execution_count": 70,
   "metadata": {},
   "outputs": [
    {
     "data": {
      "text/plain": [
       "array([[1, 1, 2],\n",
       "       [1, 1, 2],\n",
       "       [1, 1, 2]])"
      ]
     },
     "execution_count": 70,
     "metadata": {},
     "output_type": "execute_result"
    }
   ],
   "source": [
    "def summer(a,b,c):\n",
    "    return a**2+b/(c*2)\n",
    "l1= l2= l3 = np.array([1,1,2])\n",
    "#l2 = np.array((4,5,6,4))\n",
    "la,lb = np.meshgrid(l1,l2)\n",
    "la"
   ]
  }
 ],
 "metadata": {
  "kernelspec": {
   "display_name": "Python 3",
   "language": "python",
   "name": "python3"
  },
  "language_info": {
   "codemirror_mode": {
    "name": "ipython",
    "version": 3
   },
   "file_extension": ".py",
   "mimetype": "text/x-python",
   "name": "python",
   "nbconvert_exporter": "python",
   "pygments_lexer": "ipython3",
   "version": "3.6.7"
  }
 },
 "nbformat": 4,
 "nbformat_minor": 2
}
