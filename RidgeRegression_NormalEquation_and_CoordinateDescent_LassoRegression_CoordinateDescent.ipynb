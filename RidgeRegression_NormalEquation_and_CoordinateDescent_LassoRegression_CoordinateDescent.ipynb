{
 "cells": [
  {
   "cell_type": "code",
   "execution_count": 2,
   "metadata": {},
   "outputs": [],
   "source": [
    "import numpy as np \n",
    "\n",
    "import pandas as pd"
   ]
  },
  {
   "cell_type": "markdown",
   "metadata": {},
   "source": [
    "# Q2(a)"
   ]
  },
  {
   "cell_type": "code",
   "execution_count": 10,
   "metadata": {},
   "outputs": [
    {
     "name": "stdout",
     "output_type": "stream",
     "text": [
      "[2.09090909 2.36363636]\n",
      "[ 4.45454545  9.18181818 16.27272727]\n"
     ]
    }
   ],
   "source": [
    "def normalEquationRidgeRegression(x, y,lembda):\n",
    "    x_copy=[]\n",
    "    for i in x:\n",
    "        a=[1]+i\n",
    "        x_copy.append(a)\n",
    "    #print(x_copy)\n",
    "    x=x_copy\n",
    "    x=np.array(x)\n",
    "    a=x.transpose()\n",
    "    test=np.dot(a,x)\n",
    "    \n",
    "    I = np.identity(len(test), dtype = float) \n",
    "    #print(4*I)\n",
    "    inv = np.linalg.inv(np.dot(a,x)+lembda*I) \n",
    "    Y=np.array(y).transpose()\n",
    "    theta=np.dot(inv,np.dot(a,Y))\n",
    "    return theta,x\n",
    "\n",
    "\n",
    "\n",
    "# x=[[1,2,4],[3,3,9],[4,5,7],[2,6,4],[2,6,9]]\n",
    "# lbd=1\n",
    "# y=[7,12,16,12,16]\n",
    "x=[[1],[3],[6]]\n",
    "y=[6,10,16]\n",
    "th,x_cop=normalEquationRidgeRegression(x, y,1)\n",
    "print(th)\n",
    "print(np.dot(x_cop,th))\n",
    "#print(t,inv)\n",
    "#print(np.dot(t,inv))"
   ]
  },
  {
   "cell_type": "markdown",
   "metadata": {},
   "source": [
    "# Q2(b)"
   ]
  },
  {
   "cell_type": "code",
   "execution_count": 11,
   "metadata": {},
   "outputs": [
    {
     "name": "stdout",
     "output_type": "stream",
     "text": [
      "[ 6.80893803 13.00903145 14.8456867  12.87449393 16.57038306 13.89146683]\n",
      "[0.5372158206166283, 0.5644658984739945, 1.3752725007785733, 0.7391778262223615]\n"
     ]
    }
   ],
   "source": [
    "def coodrdinateDescentRegression(x, y, iterations):\n",
    "    x_copy=[]\n",
    "    for i in x:\n",
    "        a=[1]+i\n",
    "        x_copy.append(a)\n",
    "    #print(x_copy)\n",
    "    x=x_copy\n",
    "    x=np.array(x)\n",
    "    #print(x)\n",
    "    \n",
    "    \n",
    "    theta=len(x[0])*[0]\n",
    "    #print(theta)\n",
    "    \n",
    "    \n",
    "    for i in range(iterations):\n",
    "        theta_j=theta\n",
    "        for j in range(len(x[1])):\n",
    "            theta_j=theta ##\n",
    "            theta_j[j]=0\n",
    "            #print(theta_j)\n",
    "            prediction_j = np.dot(x, theta_j) ##\n",
    "            error_j = y-prediction_j    ##\n",
    "            #print(x[j])\n",
    "            #print(error_j)\n",
    "            x_j=[]          \n",
    "            \n",
    "            for m in range(len(x)):\n",
    "                x_j.append(x[m][j])\n",
    "                \n",
    "            x_j=np.array(x_j)\n",
    "            #print(x_j)\n",
    "            rho_j=np.dot(x_j,error_j)\n",
    "            z_j=np.dot(x_j.transpose(),x_j)\n",
    "            #print(z_j)\n",
    "            theta_j=rho_j*(float(z_j)**(-1))\n",
    "            theta[j]=theta_j\n",
    "\n",
    "    return x,theta\n",
    "x=[[1,2,4],[3,3,9],[4,5,7],[2,6,4],[2,6,9],[1,5,8]]\n",
    "lbd=1\n",
    "y=[7,12,16,12,16,15]\n",
    "x,th=coodrdinateDescentRegression(x, y,8000)\n",
    "print(np.dot(x,th))\n",
    "\n",
    "print(th)"
   ]
  },
  {
   "cell_type": "markdown",
   "metadata": {},
   "source": [
    "# Q2(c)"
   ]
  },
  {
   "cell_type": "code",
   "execution_count": 34,
   "metadata": {},
   "outputs": [
    {
     "name": "stdout",
     "output_type": "stream",
     "text": [
      "[ 6.53402133 13.24442352 12.8916618  10.41968659 16.15867247 14.03945898]\n",
      "[0, 0, 0.9714163148233617, 1.1477971752873224]\n"
     ]
    }
   ],
   "source": [
    "def coodrdinatedescentlasso(x, y, delta, iterations):\n",
    "    x_copy=[]\n",
    "    for i in x:\n",
    "        a=[1]+i\n",
    "        x_copy.append(a)\n",
    "    x=x_copy\n",
    "    x=np.array(x)\n",
    "    theta=len(x[0])*[1000] \n",
    "    for i in range(iterations):\n",
    "        theta_j=theta\n",
    "        for j in range(len(x[1])):\n",
    "            theta_j=theta\n",
    "            theta_j[j]=0\n",
    "            prediction_j = np.dot(x, theta_j)\n",
    "            error_j = y-prediction_j\n",
    "            #error_j = error_j.reshape((len(error_j),1))\n",
    "            x_j=x[:,j]\n",
    "            #x_j=x_j.reshape((len(x_j),1))\n",
    "            rho_j=np.dot(x_j.T,error_j)\n",
    "            #print(rho_j)\n",
    "            z_j=np.dot(x_j.transpose(),x_j)\n",
    "                        \n",
    "            if rho_j> ((delta**2)/2):\n",
    "                theta_j=(rho_j-delta**2)/z_j\n",
    "            elif rho_j< ((-delta**2)/2):\n",
    "                theta_j=(rho_j+delta**2)/z_j\n",
    "            else:\n",
    "                theta_j=0\n",
    "            theta[j]=theta_j\n",
    "            \n",
    "    return x,theta\n",
    "\n",
    "x=[[1,2,4],[3,3,9],[4,5,7],[2,6,4],[2,6,9],[1,5,8]]\n",
    "lbd=1\n",
    "y=[7,12,16,12,16,15]\n",
    "# x=[[1],[3],[6]]\n",
    "# y=[6,10,16]\n",
    "x,th=coodrdinatedescentlasso(x, y,5,50000)\n",
    "print(np.dot(x,th))\n",
    "print(th)"
   ]
  },
  {
   "cell_type": "markdown",
   "metadata": {},
   "source": [
    "# 2(d)"
   ]
  },
  {
   "cell_type": "code",
   "execution_count": 1,
   "metadata": {},
   "outputs": [
    {
     "name": "stdout",
     "output_type": "stream",
     "text": [
      "[0.53750183 1.33286297 0.86435627]\n",
      "[ 6.66065284 13.3903008  14.86481602 12.52960653 16.85138787 14.11666681]\n"
     ]
    }
   ],
   "source": [
    "import random\n",
    "import numpy as np\n",
    "x=[[1,2,4],[3,3,9],[4,5,7],[2,6,4],[2,6,9],[1,5,8]]\n",
    "y=[7,12,16,12,16,15]\n",
    "alpha = 0.0008\n",
    "iterations = 1000000\n",
    "m = len(y)\n",
    "np.random.seed(1) \n",
    "theta = np.random.rand(len(x[0]))\n",
    "theta=[1.5,1,1]\n",
    "def sgdregression(x, y, theta, iterations, alpha):\n",
    "    x=np.array(x)\n",
    "    for i in range(iterations):\n",
    "        num=random.randint(0,len(x)-1)\n",
    "        x_n=x[num]\n",
    "        #print(x_n)\n",
    "        prediction=np.dot(x_n,theta)\n",
    "        #print(prediction)\n",
    "        error=prediction-y[num]\n",
    "        normal=np.dot(x_n,x_n)     \n",
    "        theta=theta -(((alpha)*error)*x_n)/normal\n",
    "    return theta\n",
    "\n",
    "theta=sgdregression(x, y, theta, iterations, alpha)\n",
    "print(theta)\n",
    "\n",
    "print(np.dot(x,theta))"
   ]
  },
  {
   "cell_type": "markdown",
   "metadata": {},
   "source": [
    "# 2(e)"
   ]
  },
  {
   "cell_type": "code",
   "execution_count": null,
   "metadata": {},
   "outputs": [],
   "source": [
    "def costlasso(x,y,theta):\n",
    "    cost=0\n",
    "    for i in theta:\n",
    "        cost=cost+abs(i)\n",
    "        \n",
    "    \n",
    "    return cost\n",
    "    \n",
    "\n",
    "import numpy as np\n",
    "x=[[1,2,3],[1,3,5],[1,2,1],[1,10,12],[4,21,9]]\n",
    "y=[6,9,4,30,40]\n",
    "alpha = 0.01\n",
    "iterations = 500000\n",
    "m = len(y)\n",
    "np.random.seed(1) \n",
    "theta = np.random.rand(len(x[0]))\n",
    "theta=[2,2,2]\n",
    "def gradient_descent(x, y, theta,alpha,labd, iterations):\n",
    "    x=np.array(x)\n",
    "    cost_prev=0\n",
    "    cost=0\n",
    "    for i in range(iterations):\n",
    "        prediction = np.dot(x, theta)\n",
    "        #print(prediction)\n",
    "        cost_prev=cost\n",
    "        error = prediction - y\n",
    "        cost = np.sqrt( np.dot(error.transpose(), error))/m\n",
    "        theta = theta - (alpha * (1/m) * np.dot(x.transpose(), error)) \n",
    "        #print(theta)\n",
    "    return theta\n",
    "\n",
    "theta=gradient_descent(x, y, theta, iterations, alpha)\n",
    "print(theta)\n",
    "x=[[1,2,3],[1,3,5],[1,2,1],[1,10,12],[4,21,9]]\n",
    "print(np.dot(x,theta))"
   ]
  },
  {
   "cell_type": "code",
   "execution_count": null,
   "metadata": {},
   "outputs": [],
   "source": []
  }
 ],
 "metadata": {
  "kernelspec": {
   "display_name": "Python 3",
   "language": "python",
   "name": "python3"
  },
  "language_info": {
   "codemirror_mode": {
    "name": "ipython",
    "version": 3
   },
   "file_extension": ".py",
   "mimetype": "text/x-python",
   "name": "python",
   "nbconvert_exporter": "python",
   "pygments_lexer": "ipython3",
   "version": "3.6.8"
  }
 },
 "nbformat": 4,
 "nbformat_minor": 2
}
