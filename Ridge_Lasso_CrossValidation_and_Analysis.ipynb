{
 "cells": [
  {
   "cell_type": "code",
   "execution_count": 2,
   "metadata": {},
   "outputs": [],
   "source": [
    "import numpy as np\n",
    "import matplotlib.pyplot as plt\n",
    "import pandas as pd\n",
    "from sklearn.model_selection import train_test_split\n",
    "from sklearn.linear_model import LinearRegression\n",
    "\n",
    "import time\n",
    "from sklearn import preprocessing\n",
    "from sklearn.model_selection import KFold\n",
    "from sklearn.linear_model import Lasso\n",
    "from sklearn.model_selection import KFold\n",
    "from sklearn.linear_model import lasso_path\n",
    "from sklearn.linear_model import Ridge\n",
    "from sklearn.utils import shuffle\n",
    "from autograd import grad\n",
    "from sklearn.metrics import mean_squared_error"
   ]
  },
  {
   "cell_type": "code",
   "execution_count": 4,
   "metadata": {},
   "outputs": [
    {
     "data": {
      "text/plain": [
       "['No',\n",
       " 'X1 transaction date',\n",
       " 'X2 house age',\n",
       " 'X3 distance to the nearest MRT station',\n",
       " 'X4 number of convenience stores',\n",
       " 'X5 latitude',\n",
       " 'X6 longitude',\n",
       " 'Y house price of unit area']"
      ]
     },
     "execution_count": 4,
     "metadata": {},
     "output_type": "execute_result"
    }
   ],
   "source": [
    "\n",
    "dataset = pd.read_excel('Real.xlsx')\n",
    "dataset.head()\n",
    "p=dataset.iloc[0:0,:]\n",
    "p=list(p)\n",
    "p"
   ]
  },
  {
   "cell_type": "code",
   "execution_count": 5,
   "metadata": {},
   "outputs": [],
   "source": []
  },
  {
   "cell_type": "code",
   "execution_count": 6,
   "metadata": {},
   "outputs": [],
   "source": []
  },
  {
   "cell_type": "code",
   "execution_count": 7,
   "metadata": {},
   "outputs": [],
   "source": []
  },
  {
   "cell_type": "code",
   "execution_count": 8,
   "metadata": {},
   "outputs": [
    {
     "name": "stdout",
     "output_type": "stream",
     "text": [
      "[[ 1.85714286]\n",
      " [-0.14285714]]\n"
     ]
    }
   ],
   "source": []
  },
  {
   "cell_type": "markdown",
   "metadata": {},
   "source": []
  },
  {
   "cell_type": "code",
   "execution_count": 13,
   "metadata": {},
   "outputs": [],
   "source": [
    "dataset = np.array(dataset)\n",
    "#dataset = preprocessing.normalize(dataset)\n",
    "x = preprocessing.normalize(dataset[:,1:-1])\n",
    "y = dataset[:,-1]\n"
   ]
  },
  {
   "cell_type": "code",
   "execution_count": 14,
   "metadata": {},
   "outputs": [],
   "source": [
    "xTrain, xTest, yTrain, yTest = train_test_split(dataset, y, test_size = 1/3, random_state = 0)"
   ]
  },
  {
   "cell_type": "code",
   "execution_count": 15,
   "metadata": {},
   "outputs": [],
   "source": [
    "kf = KFold(n_splits=5, shuffle=True, random_state=42)"
   ]
  },
  {
   "cell_type": "markdown",
   "metadata": {},
   "source": [
    "# 5(a)"
   ]
  },
  {
   "cell_type": "code",
   "execution_count": 16,
   "metadata": {},
   "outputs": [
    {
     "name": "stdout",
     "output_type": "stream",
     "text": [
      "Fold  1\n",
      "alpha 1\n",
      "Train Error :  0.0005654087393691016\n",
      "Test Error :  0.00059969006376997\n",
      "Validation Error :  0.0009459753761037812\n",
      "--------------------------------\n",
      "\n",
      "Fold  2\n",
      "alpha 1\n",
      "Train Error :  0.00047383253024990604\n",
      "Test Error :  0.0004311249542230292\n",
      "Validation Error :  0.0004308974667865872\n",
      "--------------------------------\n",
      "\n",
      "Fold  3\n",
      "alpha 1\n",
      "Train Error :  0.00047646718787005567\n",
      "Test Error :  0.00042988186485001106\n",
      "Validation Error :  0.0004438187749876495\n",
      "--------------------------------\n",
      "\n",
      "Fold  4\n",
      "alpha 1\n",
      "Train Error :  0.0004599899124440068\n",
      "Test Error :  0.0004022211853561172\n",
      "Validation Error :  0.0003337885935201266\n",
      "--------------------------------\n",
      "\n",
      "Fold  5\n",
      "alpha 1\n",
      "Train Error :  0.0004691574919622345\n",
      "Test Error :  0.00041335700511042493\n",
      "Validation Error :  0.00039925141036974653\n",
      "--------------------------------\n",
      "\n"
     ]
    }
   ],
   "source": [
    "I = 1\n",
    "alp = [3,2,1]\n",
    "f = []\n",
    "for train_index, val_index in kf.split(xTrain,yTrain):\n",
    "    X_train, X_val = xTrain[train_index], xTrain[val_index]\n",
    "    #print(X_train.shape,X_val.shape)\n",
    "    y_train, y_val = yTrain[train_index], yTrain[val_index]\n",
    "    f.append(X_train)\n",
    "    validation =[]\n",
    "    for alph in alp:\n",
    "        ridge = Ridge(alpha = alph,fit_intercept = True)\n",
    "        ridge.fit(X_train,y_train)\n",
    "        pred_val = ridge.predict(X_val)\n",
    "        mse  = np.mean((y_val - pred_val)**2)\n",
    "        validation.append(np.sqrt(mse))\n",
    "\n",
    "    \n",
    "    best_alpha = np.argmin(validation)\n",
    "    ridge = Ridge(alpha=alp[best_alpha], fit_intercept=True)\n",
    "    ridge.fit(X_train, y_train)\n",
    "    \n",
    "    pred_train = ridge.predict(X_train)\n",
    "    mse = np.mean((y_train - pred_train)**2)\n",
    "    train_error = np.sqrt(mse)\n",
    "    \n",
    "    pred_test = ridge.predict(xTest)\n",
    "    mse = np.mean((yTest - pred_test)**2)\n",
    "    test_error = np.sqrt(mse)\n",
    "    \n",
    "    pred_val = ridge.predict(X_val)\n",
    "    mse = np.mean((y_val - pred_val)**2)\n",
    "    val_error = np.sqrt(mse)\n",
    "        \n",
    "    print ('Fold ',I)\n",
    "    I+=1\n",
    "    print('alpha',alp[best_alpha])\n",
    "    print ('Train Error : ',train_error)\n",
    "    print ('Test Error : ',test_error)\n",
    "    print ('Validation Error : ',val_error)\n",
    "    print ('--------------------------------\\n')\n",
    "    "
   ]
  },
  {
   "cell_type": "markdown",
   "metadata": {},
   "source": [
    "# 5(b)"
   ]
  },
  {
   "cell_type": "code",
   "execution_count": 17,
   "metadata": {},
   "outputs": [
    {
     "name": "stdout",
     "output_type": "stream",
     "text": [
      "Fold  1\n",
      "alpha 1\n",
      "Train rmse :  0.10890303181518564\n",
      "Test rmse:  0.11575997010073846\n",
      "Validation rmse :  0.16522971327094016\n",
      "==========================================================\n",
      "\n",
      "Fold  2\n",
      "alpha 1\n",
      "Train rmse :  0.09686359059174507\n",
      "Test rmse:  0.09048842208665227\n",
      "Validation rmse :  0.09533526341761143\n",
      "==========================================================\n",
      "\n",
      "Fold  3\n",
      "alpha 1\n",
      "Train rmse :  0.09451762163810203\n",
      "Test rmse:  0.08683268796913064\n",
      "Validation rmse :  0.08135702517806111\n",
      "==========================================================\n",
      "\n",
      "Fold  4\n",
      "alpha 1\n",
      "Train rmse :  0.09367469412269397\n",
      "Test rmse:  0.08466996674483376\n",
      "Validation rmse :  0.07629860288426746\n",
      "==========================================================\n",
      "\n",
      "Fold  5\n",
      "alpha 1\n",
      "Train rmse :  0.09451059916546174\n",
      "Test rmse:  0.08549555172911204\n",
      "Validation rmse :  0.08141072859723057\n",
      "==========================================================\n",
      "\n"
     ]
    }
   ],
   "source": [
    "I = 1\n",
    "alp = [5,1,3]\n",
    "f = []\n",
    "for train_index, val_index in kf.split(xTrain,yTrain):\n",
    "    X_train, X_val = xTrain[train_index], xTrain[val_index]\n",
    "    #print(X_train.shape,X_val.shape)\n",
    "    y_train, y_val = yTrain[train_index], yTrain[val_index]\n",
    "    f.append(X_train)\n",
    "    validation =[]\n",
    "    for alph in alp:\n",
    "        lasso = Lasso(alpha = alph,fit_intercept = True)\n",
    "        lasso.fit(X_train,y_train)\n",
    "        pred_val = lasso.predict(X_val)\n",
    "        mse  = np.mean((y_val - pred_val)**2)\n",
    "        validation.append(np.sqrt(mse))\n",
    "\n",
    "    \n",
    "    best_alpha = np.argmin(validation)\n",
    "    lasso = Lasso(alpha=alp[best_alpha], fit_intercept=True)\n",
    "    lasso.fit(X_train, y_train)\n",
    "    \n",
    "    pred_train = lasso.predict(X_train)\n",
    "    mse = np.mean((y_train - pred_train)**2)\n",
    "    train_error = np.sqrt(mse)\n",
    "    \n",
    "    pred_test = lasso.predict(xTest)\n",
    "    mse = np.mean((yTest - pred_test)**2)\n",
    "    test_error = np.sqrt(mse)\n",
    "    \n",
    "    pred_val = lasso.predict(X_val)\n",
    "    mse = np.mean((y_val - pred_val)**2)\n",
    "    val_error = np.sqrt(mse)\n",
    "        \n",
    "    print ('Fold ',I)\n",
    "    I+=1\n",
    "    print('alpha',alp[best_alpha])\n",
    "    print ('Train rmse : ',train_error)\n",
    "    print ('Test rmse: ',test_error)\n",
    "    print ('Validation rmse : ',val_error)\n",
    "    print ('==========================================================\\n')\n",
    "    "
   ]
  },
  {
   "cell_type": "markdown",
   "metadata": {},
   "source": [
    "# 5(c)"
   ]
  },
  {
   "cell_type": "code",
   "execution_count": 18,
   "metadata": {},
   "outputs": [
    {
     "data": {
      "text/plain": [
       "[<matplotlib.lines.Line2D at 0x1fac13ef390>,\n",
       " <matplotlib.lines.Line2D at 0x1fac7ba0a90>,\n",
       " <matplotlib.lines.Line2D at 0x1fac7ba0be0>,\n",
       " <matplotlib.lines.Line2D at 0x1fac7ba0d30>,\n",
       " <matplotlib.lines.Line2D at 0x1fac7ba0e80>,\n",
       " <matplotlib.lines.Line2D at 0x1fac7ba0fd0>,\n",
       " <matplotlib.lines.Line2D at 0x1fac7bb0160>,\n",
       " <matplotlib.lines.Line2D at 0x1fac7bb02b0>]"
      ]
     },
     "execution_count": 18,
     "metadata": {},
     "output_type": "execute_result"
    },
    {
     "data": {
      "image/png": "[encoded data removed]",
      "text/plain": [
       "<Figure size 432x288 with 1 Axes>"
      ]
     },
     "metadata": {
      "needs_background": "light"
     },
     "output_type": "display_data"
    }
   ],
   "source": [
    "n_alphas = 100\n",
    "alphas = np.logspace(-10, -2, n_alphas)\n",
    "\n",
    "coefs = []\n",
    "for a in alphas:\n",
    "    ridge = Ridge(alpha=a, fit_intercept=False)\n",
    "    ridge.fit(xTrain, yTrain)\n",
    "    coefs.append(ridge.coef_)\n",
    "plt.plot(np.log10(alphas),coefs)"
   ]
  },
  {
   "cell_type": "code",
   "execution_count": 19,
   "metadata": {},
   "outputs": [
    {
     "data": {
      "image/png": "[encoded data removed]",
      "text/plain": [
       "<Figure size 432x288 with 1 Axes>"
      ]
     },
     "metadata": {
      "needs_background": "light"
     },
     "output_type": "display_data"
    }
   ],
   "source": [
    "plt.figure(1)\n",
    "alphas_lasso, coefs_lasso, _ = lasso_path(xTrain,yTrain)\n",
    "log_alphas_lasso = np.log10(alphas_lasso)\n",
    "for coef_l in (coefs_lasso):\n",
    "    l1 = plt.plot(log_alphas_lasso, coef_l)\n",
    "plt.show()"
   ]
  },
  {
   "cell_type": "markdown",
   "metadata": {},
   "source": [
    "# 5(d)"
   ]
  },
  {
   "cell_type": "code",
   "execution_count": 20,
   "metadata": {},
   "outputs": [],
   "source": [
    "xTrain, xTest, yTrain, yTest = train_test_split(dataset, y, test_size = 1/5, random_state = 0)"
   ]
  },
  {
   "cell_type": "code",
   "execution_count": 21,
   "metadata": {},
   "outputs": [
    {
     "data": {
      "text/plain": [
       "[<matplotlib.lines.Line2D at 0x1fac7c8b588>]"
      ]
     },
     "execution_count": 21,
     "metadata": {},
     "output_type": "execute_result"
    },
    {
     "data": {
      "image/png": "[encoded data removed]",
      "text/plain": [
       "<Figure size 432x288 with 1 Axes>"
      ]
     },
     "metadata": {
      "needs_background": "light"
     },
     "output_type": "display_data"
    }
   ],
   "source": [
    "alphas = [1e-4, 1e-3, 1e-2, 1e-1, 1e1, 1e2]\n",
    "\n",
    "train_errors = []\n",
    "test_errors = []\n",
    "\n",
    "for alpha in alphas:\n",
    "    ridge = Ridge(alpha=alpha, fit_intercept=True)\n",
    "    ridge.fit(xTrain, yTrain)\n",
    "    pred_train = ridge.predict(xTrain)\n",
    "    mse = np.mean((yTrain - pred_train)**2)\n",
    "    train_errors.append(np.sqrt(mse))\n",
    "    \n",
    "    pred_test = ridge.predict(xTest)\n",
    "    mse = np.mean((yTest - pred_test)**2)\n",
    "    test_errors.append(np.sqrt(mse))\n",
    "\n",
    "plt.plot(np.log10(alphas),train_errors)\n",
    "plt.plot(np.log10(alphas),test_errors)"
   ]
  },
  {
   "cell_type": "code",
   "execution_count": null,
   "metadata": {},
   "outputs": [],
   "source": []
  }
 ],
 "metadata": {
  "kernelspec": {
   "display_name": "Python 3",
   "language": "python",
   "name": "python3"
  },
  "language_info": {
   "codemirror_mode": {
    "name": "ipython",
    "version": 3
   },
   "file_extension": ".py",
   "mimetype": "text/x-python",
   "name": "python",
   "nbconvert_exporter": "python",
   "pygments_lexer": "ipython3",
   "version": "3.6.8"
  }
 },
 "nbformat": 4,
 "nbformat_minor": 2
}
