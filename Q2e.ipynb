{
 "cells": [
  {
   "cell_type": "code",
   "execution_count": 14,
   "metadata": {},
   "outputs": [],
   "source": [
    "import numpy as np\n",
    "import autograd.numpy as anp\n",
    "from autograd import grad "
   ]
  },
  {
   "cell_type": "code",
   "execution_count": null,
   "metadata": {},
   "outputs": [],
   "source": [
    "def costlasso(theta,x,y,lembda):   \n",
    "    prediction = np.dot(x, theta)\n",
    "    error = prediction-y\n",
    "    m=len(y)\n",
    "    cost = (( np.dot(error.transpose(), error))**0.5)/m\n",
    "    \n",
    "    for i in range(1,len(theta)):\n",
    "        cost=cost+lembda*abs(theta[i])\n",
    "    \n",
    "    return cost\n",
    "\n",
    "grad_theta=grad(costlasso)\n",
    "\n",
    "def gradient_descent_auto_lasso(x, y, theta,alpha,lembda, iterations):\n",
    "    x_copy=[]\n",
    "    for i in x:\n",
    "        a=[1]+i\n",
    "        x_copy.append(a)\n",
    "    x=x_copy\n",
    "    x=np.array(x)\n",
    "    y=np.array(y)\n",
    "    theta=np.array(theta)\n",
    "    for i in range(iterations):\n",
    "        theta = theta - (alpha * grad_theta(theta,x,y,lembda)) \n",
    "        #print(grad_theta(theta,x,y,lembda))\n",
    "    return theta,x\n",
    "\n",
    "x=[[1,2,3],[1,3,5],[1,2,1],[1,10,12],[4,21,9] ]\n",
    "y=[6,9,4,30,40]\n",
    "alpha = 0.01\n",
    "iterations = 5000\n",
    "lembda=1\n",
    "theta=[1.0,1.0,1.0,1.0]\n",
    "\n",
    "theta_final,x_new =gradient_descent_auto_lasso(x, y, theta,alpha,lembda, iterations)\n",
    "print(x_new)\n",
    "print(theta_final)\n",
    "print(np.dot(x_new,theta_final))"
   ]
  },
  {
   "cell_type": "code",
   "execution_count": null,
   "metadata": {},
   "outputs": [],
   "source": []
  },
  {
   "cell_type": "code",
   "execution_count": null,
   "metadata": {},
   "outputs": [],
   "source": []
  }
 ],
 "metadata": {
  "kernelspec": {
   "display_name": "Python 3",
   "language": "python",
   "name": "python3"
  },
  "language_info": {
   "codemirror_mode": {
    "name": "ipython",
    "version": 3
   },
   "file_extension": ".py",
   "mimetype": "text/x-python",
   "name": "python",
   "nbconvert_exporter": "python",
   "pygments_lexer": "ipython3",
   "version": "3.6.8"
  }
 },
 "nbformat": 4,
 "nbformat_minor": 2
}
